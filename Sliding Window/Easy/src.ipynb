{
 "cells": [
  {
   "cell_type": "markdown",
   "metadata": {},
   "source": [
    "#### Maximum Sum Subarray of Size K (easy)\n",
    "Problem Statement: \n",
    "```\n",
    "Given an array of positive numbers and a positive number ‘k,’ find the maximum sum of any contiguous subarray of size ‘k’.\n",
    "\n",
    "Example 1:\n",
    "```\n",
    "    Input: [2, 1, 5, 1, 3, 2], k=3 \n",
    "    Output: 9\n",
    "    Explanation: Subarray with maximum sum is [5, 1, 3].\n",
    "```\n",
    "Example 2:\n",
    "\n",
    "```\n",
    "    Input: [2, 3, 4, 1, 5], k=2 \n",
    "    Output: 7\n",
    "    Explanation: Subarray with maximum sum is [3, 4]."
   ]
  },
  {
   "cell_type": "code",
   "execution_count": 17,
   "metadata": {},
   "outputs": [],
   "source": [
    "def max_sub_array_of_size_k(k, arr):\n",
    "  max_sum = 0\n",
    "  sum=0\n",
    "  n = len(arr)\n",
    "  start_window =0;\n",
    "  end_Window = 0\n",
    "  while end_Window < n:\n",
    "    win_len = end_Window - start_window\n",
    "    if(win_len <= k-1):\n",
    "      sum+=arr[end_Window]\n",
    "      max_sum = max(max_sum,sum)\n",
    "      end_Window+=1\n",
    "    else:\n",
    "      sum -= arr[start_window]\n",
    "      start_window += 1\n",
    "  return max_sum"
   ]
  },
  {
   "cell_type": "code",
   "execution_count": 18,
   "metadata": {},
   "outputs": [
    {
     "data": {
      "text/plain": [
       "9"
      ]
     },
     "execution_count": 18,
     "metadata": {},
     "output_type": "execute_result"
    }
   ],
   "source": [
    "arr = [2, 1, 5, 1, 3, 2]\n",
    "k = 3\n",
    "max_sub_array_of_size_k(k,arr)"
   ]
  },
  {
   "cell_type": "markdown",
   "metadata": {},
   "source": [
    "Summary:\n",
    "    Time Complexity#\n",
    "\n",
    "* The time complexity of the above algorithm will be O(N)\n",
    "\n",
    "Space Complexity#\n",
    "* The algorithm runs in constant space O(1)"
   ]
  },
  {
   "cell_type": "markdown",
   "metadata": {},
   "source": [
    "#### Smallest Subarray With a Greater Sum (easy)\n",
    "Problem Statement# \n",
    "\n",
    "    Given an array of positive integers and a number ‘S,’ find the length of the smallest contiguous subarray whose sum is greater than or equal to ‘S’. Return 0 if no such subarray exists.\n",
    "\n",
    "    Example 1:\n",
    "\n",
    "    Input: [2, 1, 5, 2, 3, 2], S=7\n",
    "    Output: 2\n",
    "    Explanation: The smallest subarray with a sum greater than or equal to ‘7’ is [5, 2]."
   ]
  },
  {
   "cell_type": "code",
   "execution_count": 3,
   "metadata": {},
   "outputs": [],
   "source": [
    "def smallest_subarray_sum(s, arr):\n",
    "    smallest = len(arr)+1\n",
    "    start = 0\n",
    "    end = 1\n",
    "    win_sum = arr[0]\n",
    "    while end < len(arr):\n",
    "        if win_sum < s:\n",
    "            win_sum = win_sum + arr[end]\n",
    "            end+=1\n",
    "        if(win_sum >= s):\n",
    "            while(win_sum >= s):\n",
    "                win_sum = win_sum - arr[start]\n",
    "                start = start + 1\n",
    "            smallest = min(smallest, end - start+1)\n",
    "    return smallest if smallest < len(arr) else 0"
   ]
  },
  {
   "cell_type": "code",
   "execution_count": 4,
   "metadata": {},
   "outputs": [
    {
     "data": {
      "text/plain": [
       "1"
      ]
     },
     "execution_count": 4,
     "metadata": {},
     "output_type": "execute_result"
    }
   ],
   "source": [
    "nums = [2, 1, 5, 2, 8]\n",
    "s = 7\n",
    "smallest_subarray_sum(s,nums)"
   ]
  },
  {
   "cell_type": "markdown",
   "metadata": {},
   "source": [
    "Time Complexity#\n",
    "* The time complexity of the above algorithm will be O(N)\n",
    "\n",
    "Space Complexity#\n",
    "* The algorithm runs in constant space O(1)"
   ]
  }
 ],
 "metadata": {
  "kernelspec": {
   "display_name": "Python 3.9.13 64-bit",
   "language": "python",
   "name": "python3"
  },
  "language_info": {
   "codemirror_mode": {
    "name": "ipython",
    "version": 3
   },
   "file_extension": ".py",
   "mimetype": "text/x-python",
   "name": "python",
   "nbconvert_exporter": "python",
   "pygments_lexer": "ipython3",
   "version": "3.9.13"
  },
  "orig_nbformat": 4,
  "vscode": {
   "interpreter": {
    "hash": "b0fa6594d8f4cbf19f97940f81e996739fb7646882a419484c72d19e05852a7e"
   }
  }
 },
 "nbformat": 4,
 "nbformat_minor": 2
}
